{
 "cells": [
  {
   "cell_type": "code",
   "execution_count": 33,
   "id": "55dc62a8-3328-4292-9282-544d9d19a89d",
   "metadata": {},
   "outputs": [
    {
     "name": "stdout",
     "output_type": "stream",
     "text": [
      " t_stat is 3.590, p_value is 0.001\n",
      "Average HP of dragon pokemon is 83.3125\n",
      "Average HP of grass pokemon is 67.27142857142857\n",
      "HP - t_stat: 8.0361, p_value: 0.0000\n",
      "Attack - t_stat: 10.3973, p_value: 0.0000\n",
      "Defense - t_stat: 7.1812, p_value: 0.0000\n",
      "Sp. Atk - t_stat: 14.1914, p_value: 0.0000\n",
      "Sp. Def - t_stat: 11.0378, p_value: 0.0000\n",
      "Speed - t_stat: 9.7652, p_value: 0.0000\n",
      " the price where location close to school or hospital are obviously higher than elsewhere\n"
     ]
    }
   ],
   "source": [
    "import pandas as pd\n",
    "import scipy.stats as stats\n",
    "import numpy as np\n",
    "df = pd.read_csv(\"https://raw.githubusercontent.com/data-bootcamp-v4/data/main/pokemon.csv\")\n",
    "\n",
    "##Challeng 1-1\n",
    "\n",
    "dragon_hp = df[df['Type 1'] =='Dragon']['HP']\n",
    "grass_hp = df[df['Type 1'] =='Grass']['HP']\n",
    "t_stat, p_value = stats.ttest_ind(dragon_hp,grass_hp)\n",
    "print(f\" t_stat is {t_stat:.3f}, p_value is {p_value:.3f}\")\n",
    "print(f\"Average HP of dragon pokemon is {dragon_hp.mean()}\")\n",
    "print(f\"Average HP of grass pokemon is {grass_hp.mean()}\")\n",
    "# Yes from above cross checking result we conclude Pokemons of type Dragon have, on average, more HP stats than Grass\n",
    "\n",
    "\n",
    "##Challeng 1-2   \n",
    "\n",
    "legendary_stats = df[df['Legendary'] == True][['HP', 'Attack', 'Defense', 'Sp. Atk', 'Sp. Def', 'Speed']]\n",
    "non_legendary_stats = df[df['Legendary'] == False][['HP', 'Attack', 'Defense', 'Sp. Atk', 'Sp. Def', 'Speed']]\n",
    "\n",
    "attributes = ['HP', 'Attack', 'Defense', 'Sp. Atk', 'Sp. Def', 'Speed']\n",
    "results = {}\n",
    "\n",
    "for attr in attributes:\n",
    "    t_stat, p_value = stats.ttest_ind(legendary_stats[attr], non_legendary_stats[attr])  \n",
    "    results[attr] = (t_stat, p_value)\n",
    "    print(f\"{attr} - t_stat: {t_stat:.4f}, p_value: {p_value:.4f}\")  \n",
    "\n",
    "# since all above columns p_value <0.01 so Legendary Pokemons truely have different stats (HP, Attack, Defense, Sp.Atk, Sp.Def, Speed) when comparing with Non-Legendary\n",
    "\n",
    "##Challeng 2\n",
    "\n",
    "df = pd.read_csv(\"https://raw.githubusercontent.com/data-bootcamp-v4/data/main/california_housing.csv\")\n",
    "df.head()\n",
    "\n",
    "school_coords =  (-118,37)\n",
    "hospital_coords =(-122, 34)\n",
    "\n",
    "def euclidean_distance(lat1,lon1,lat2,lon2):\n",
    "    return np.sqrt((lat1-lat2)**2 +(lon1-lon2)**2)\n",
    "\n",
    "df['dist_school'] = df.apply(lambda row:euclidean_distance(row['latitude'],row['longitude'],school_coords[1],school_coords[0]),axis =1)\n",
    "df['dist_hospital'] = df.apply(lambda row:euclidean_distance(row['latitude'],row['longitude'],hospital_coords[1],hospital_coords[0]),axis =1)\n",
    "        \n",
    "threshold =0.5\n",
    "df['close_to_school_or_hospital'] = np.where((df['dist_school'] < threshold) | (df['dist_hospital'] < threshold),True,False)\n",
    "\n",
    "close_df = df[df['close_to_school_or_hospital']]\n",
    "far_df = df[~df['close_to_school_or_hospital']]  \n",
    "\n",
    "from scipy.stats import ttest_ind\n",
    "close_prices =close_df['median_house_value']\n",
    "far_prices =far_df['median_house_value']    \n",
    "\n",
    "t_stat, p_value = ttest_ind(close_prices,far_prices,equal_var =False)\n",
    "#print(f\"t_stat value is:{t_stat}\",p_value is:{p_value}\")\n",
    "if p_value < 0.05:\n",
    "      print(f\" the price where location close to school or hospital are obviously higher than elsewhere\")\n",
    "else:\n",
    "      print(f\" the price where location close to school or hospital are more or less similar as elsewhere\")\n",
    "        \n",
    "                                                            \n"
   ]
  },
  {
   "cell_type": "code",
   "execution_count": null,
   "id": "e3e8576c-70a4-4b9f-9261-ecd35b8203c5",
   "metadata": {},
   "outputs": [],
   "source": []
  },
  {
   "cell_type": "code",
   "execution_count": null,
   "id": "0f300b1b-c7b0-4825-a005-22c0630c9bd4",
   "metadata": {},
   "outputs": [],
   "source": []
  }
 ],
 "metadata": {
  "kernelspec": {
   "display_name": "Python 3 (ipykernel)",
   "language": "python",
   "name": "python3"
  },
  "language_info": {
   "codemirror_mode": {
    "name": "ipython",
    "version": 3
   },
   "file_extension": ".py",
   "mimetype": "text/x-python",
   "name": "python",
   "nbconvert_exporter": "python",
   "pygments_lexer": "ipython3",
   "version": "3.12.4"
  }
 },
 "nbformat": 4,
 "nbformat_minor": 5
}
